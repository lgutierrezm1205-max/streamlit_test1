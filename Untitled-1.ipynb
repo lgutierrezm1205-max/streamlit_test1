{
 "cells": [
  {
   "cell_type": "code",
   "execution_count": null,
   "id": "23968e35",
   "metadata": {},
   "outputs": [],
   "source": [
    "import matplotlib.pyplot as plt\n",
    "import numpy as np\n",
    "import pandas as pd\n",
    "\n",
    "def plot_data_with_trendline(data, x_col, y_col, title, xlabel, ylabel):\n",
    "    \"\"\"\n",
    "    Plots the data points and a trendline.\n",
    "\n",
    "    Parameters:\n",
    "    - data: pd.DataFrame containing the data.\n",
    "    - x_col: str, name of the column to be used for x-axis.\n",
    "    - y_col: str, name of the column to be used for y-axis.\n",
    "    - title: str, title of the plot.\n",
    "    - xlabel: str, label for the x-axis.\n",
    "    - ylabel: str, label for the y-axis.\n",
    "    \"\"\"\n",
    "    \n",
    "    # Extract x and y values\n",
    "    x = data[x_col]\n",
    "    y = data[y_col]\n",
    "    \n",
    "    # Create scatter plot\n",
    "    plt.scatter(x, y, color='blue', label='Data Points')\n",
    "    \n",
    "    # Fit a linear trendline\n",
    "    coefficients = np.polyfit(x, y, 1)\n",
    "    polynomial = np.poly1d(coefficients)\n",
    "    trendline = polynomial(x)\n",
    "    \n",
    "    # Plot trendline\n",
    "    plt.plot(x, trendline, color='red', label='Trendline')\n",
    "    \n",
    "    # Add titles and labels\n",
    "    plt.title(title)\n",
    "    plt.xlabel(xlabel)\n",
    "    plt.ylabel(ylabel)\n",
    "    \n",
    "    # Show legend\n",
    "    plt.legend()\n",
    "    \n",
    "    # Display the plot\n",
    "    plt.show()\n",
    "    "
   ]
  }
 ],
 "metadata": {
  "language_info": {
   "name": "python"
  }
 },
 "nbformat": 4,
 "nbformat_minor": 5
}
